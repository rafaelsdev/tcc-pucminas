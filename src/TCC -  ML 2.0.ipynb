{
 "cells": [
  {
   "cell_type": "code",
   "execution_count": 3,
   "id": "bda3a244",
   "metadata": {},
   "outputs": [],
   "source": [
    "# Imports\n",
    "import pandas as pd\n",
    "import matplotlib.pyplot as plt\n",
    "import numpy as np"
   ]
  },
  {
   "cell_type": "code",
   "execution_count": 4,
   "id": "4c60da09",
   "metadata": {},
   "outputs": [],
   "source": [
    "def carregaCSV(fileName):\n",
    "    dir = 'D:\\TCC\\csv\\\\'\n",
    "\n",
    "    fullPath = dir+fileName\n",
    "\n",
    "    df = pd.read_csv(fullPath, encoding=\"Latin 1\", sep= \";\", decimal='.')                  \n",
    "\n",
    "    return df"
   ]
  },
  {
   "cell_type": "code",
   "execution_count": 70,
   "id": "8a2ec9a5",
   "metadata": {},
   "outputs": [],
   "source": [
    "dfAno = carregaCSV('total_ano.csv')"
   ]
  },
  {
   "cell_type": "code",
   "execution_count": 71,
   "id": "d6797ffa",
   "metadata": {},
   "outputs": [
    {
     "name": "stdout",
     "output_type": "stream",
     "text": [
      "<class 'pandas.core.frame.DataFrame'>\n",
      "RangeIndex: 899454 entries, 0 to 899453\n",
      "Data columns (total 5 columns):\n",
      " #   Column          Non-Null Count   Dtype\n",
      "---  ------          --------------   -----\n",
      " 0   sexo            899454 non-null  int64\n",
      " 1   idade           899454 non-null  int64\n",
      " 2   ocupacao        899454 non-null  int64\n",
      " 3   grau_instrucao  899454 non-null  int64\n",
      " 4   trimestre       899454 non-null  int64\n",
      "dtypes: int64(5)\n",
      "memory usage: 34.3 MB\n"
     ]
    }
   ],
   "source": [
    "dfAno.info()"
   ]
  },
  {
   "cell_type": "code",
   "execution_count": 6,
   "id": "5555b61d",
   "metadata": {},
   "outputs": [
    {
     "name": "stdout",
     "output_type": "stream",
     "text": [
      "[1 2 2 ... 1 1 1]\n"
     ]
    }
   ],
   "source": [
    "print(Y)"
   ]
  },
  {
   "cell_type": "code",
   "execution_count": 11,
   "id": "e6f21968",
   "metadata": {},
   "outputs": [],
   "source": [
    "X = dfAno[['idade', 'sexo','grau_instrucao']].values\n",
    "Y = dfAno['ocupacao'].values"
   ]
  },
  {
   "cell_type": "code",
   "execution_count": 12,
   "id": "746d70ab",
   "metadata": {
    "scrolled": true
   },
   "outputs": [
    {
     "name": "stdout",
     "output_type": "stream",
     "text": [
      "[[45  2  4]\n",
      " [26  1  4]\n",
      " [18  1  3]\n",
      " ...\n",
      " [36  2  7]\n",
      " [41  2  5]\n",
      " [53  1  2]]\n"
     ]
    }
   ],
   "source": [
    "print(X)"
   ]
  },
  {
   "cell_type": "code",
   "execution_count": 13,
   "id": "b48344a5",
   "metadata": {},
   "outputs": [],
   "source": [
    "dfx = pd.DataFrame(X)"
   ]
  },
  {
   "cell_type": "code",
   "execution_count": 14,
   "id": "d3f43453",
   "metadata": {},
   "outputs": [
    {
     "name": "stdout",
     "output_type": "stream",
     "text": [
      "<class 'pandas.core.frame.DataFrame'>\n",
      "RangeIndex: 899454 entries, 0 to 899453\n",
      "Data columns (total 3 columns):\n",
      " #   Column  Non-Null Count   Dtype\n",
      "---  ------  --------------   -----\n",
      " 0   0       899454 non-null  int64\n",
      " 1   1       899454 non-null  int64\n",
      " 2   2       899454 non-null  int64\n",
      "dtypes: int64(3)\n",
      "memory usage: 20.6 MB\n"
     ]
    }
   ],
   "source": [
    "dfx.info()"
   ]
  },
  {
   "cell_type": "code",
   "execution_count": 15,
   "id": "f4aacb07",
   "metadata": {},
   "outputs": [
    {
     "data": {
      "text/html": [
       "<div>\n",
       "<style scoped>\n",
       "    .dataframe tbody tr th:only-of-type {\n",
       "        vertical-align: middle;\n",
       "    }\n",
       "\n",
       "    .dataframe tbody tr th {\n",
       "        vertical-align: top;\n",
       "    }\n",
       "\n",
       "    .dataframe thead th {\n",
       "        text-align: right;\n",
       "    }\n",
       "</style>\n",
       "<table border=\"1\" class=\"dataframe\">\n",
       "  <thead>\n",
       "    <tr style=\"text-align: right;\">\n",
       "      <th></th>\n",
       "      <th>0</th>\n",
       "      <th>1</th>\n",
       "      <th>2</th>\n",
       "    </tr>\n",
       "  </thead>\n",
       "  <tbody>\n",
       "    <tr>\n",
       "      <th>0</th>\n",
       "      <td>45</td>\n",
       "      <td>2</td>\n",
       "      <td>4</td>\n",
       "    </tr>\n",
       "    <tr>\n",
       "      <th>1</th>\n",
       "      <td>26</td>\n",
       "      <td>1</td>\n",
       "      <td>4</td>\n",
       "    </tr>\n",
       "    <tr>\n",
       "      <th>2</th>\n",
       "      <td>18</td>\n",
       "      <td>1</td>\n",
       "      <td>3</td>\n",
       "    </tr>\n",
       "    <tr>\n",
       "      <th>3</th>\n",
       "      <td>22</td>\n",
       "      <td>2</td>\n",
       "      <td>4</td>\n",
       "    </tr>\n",
       "    <tr>\n",
       "      <th>4</th>\n",
       "      <td>50</td>\n",
       "      <td>1</td>\n",
       "      <td>7</td>\n",
       "    </tr>\n",
       "  </tbody>\n",
       "</table>\n",
       "</div>"
      ],
      "text/plain": [
       "    0  1  2\n",
       "0  45  2  4\n",
       "1  26  1  4\n",
       "2  18  1  3\n",
       "3  22  2  4\n",
       "4  50  1  7"
      ]
     },
     "execution_count": 15,
     "metadata": {},
     "output_type": "execute_result"
    }
   ],
   "source": [
    "dfx.head()"
   ]
  },
  {
   "cell_type": "code",
   "execution_count": 16,
   "id": "b964ed28",
   "metadata": {},
   "outputs": [
    {
     "data": {
      "text/plain": [
       "0    87\n",
       "1     2\n",
       "2     7\n",
       "dtype: int64"
      ]
     },
     "execution_count": 16,
     "metadata": {},
     "output_type": "execute_result"
    }
   ],
   "source": [
    "dfx.nunique()"
   ]
  },
  {
   "cell_type": "code",
   "execution_count": 18,
   "id": "ea2e0571",
   "metadata": {},
   "outputs": [
    {
     "data": {
      "text/plain": [
       "0    0\n",
       "1    0\n",
       "2    0\n",
       "dtype: int64"
      ]
     },
     "execution_count": 18,
     "metadata": {},
     "output_type": "execute_result"
    }
   ],
   "source": [
    "dfx.isnull().sum()"
   ]
  },
  {
   "cell_type": "code",
   "execution_count": 19,
   "id": "4a7198ec",
   "metadata": {},
   "outputs": [
    {
     "data": {
      "text/html": [
       "<div>\n",
       "<style scoped>\n",
       "    .dataframe tbody tr th:only-of-type {\n",
       "        vertical-align: middle;\n",
       "    }\n",
       "\n",
       "    .dataframe tbody tr th {\n",
       "        vertical-align: top;\n",
       "    }\n",
       "\n",
       "    .dataframe thead th {\n",
       "        text-align: right;\n",
       "    }\n",
       "</style>\n",
       "<table border=\"1\" class=\"dataframe\">\n",
       "  <thead>\n",
       "    <tr style=\"text-align: right;\">\n",
       "      <th></th>\n",
       "      <th>0</th>\n",
       "      <th>1</th>\n",
       "      <th>2</th>\n",
       "    </tr>\n",
       "  </thead>\n",
       "  <tbody>\n",
       "    <tr>\n",
       "      <th>count</th>\n",
       "      <td>899454.000000</td>\n",
       "      <td>899454.000000</td>\n",
       "      <td>899454.000000</td>\n",
       "    </tr>\n",
       "    <tr>\n",
       "      <th>mean</th>\n",
       "      <td>39.786675</td>\n",
       "      <td>1.432515</td>\n",
       "      <td>4.370221</td>\n",
       "    </tr>\n",
       "    <tr>\n",
       "      <th>std</th>\n",
       "      <td>13.811192</td>\n",
       "      <td>0.495425</td>\n",
       "      <td>1.847672</td>\n",
       "    </tr>\n",
       "    <tr>\n",
       "      <th>min</th>\n",
       "      <td>14.000000</td>\n",
       "      <td>1.000000</td>\n",
       "      <td>1.000000</td>\n",
       "    </tr>\n",
       "    <tr>\n",
       "      <th>25%</th>\n",
       "      <td>28.000000</td>\n",
       "      <td>1.000000</td>\n",
       "      <td>2.000000</td>\n",
       "    </tr>\n",
       "    <tr>\n",
       "      <th>50%</th>\n",
       "      <td>39.000000</td>\n",
       "      <td>1.000000</td>\n",
       "      <td>5.000000</td>\n",
       "    </tr>\n",
       "    <tr>\n",
       "      <th>75%</th>\n",
       "      <td>50.000000</td>\n",
       "      <td>2.000000</td>\n",
       "      <td>5.000000</td>\n",
       "    </tr>\n",
       "    <tr>\n",
       "      <th>max</th>\n",
       "      <td>102.000000</td>\n",
       "      <td>2.000000</td>\n",
       "      <td>7.000000</td>\n",
       "    </tr>\n",
       "  </tbody>\n",
       "</table>\n",
       "</div>"
      ],
      "text/plain": [
       "                   0              1              2\n",
       "count  899454.000000  899454.000000  899454.000000\n",
       "mean       39.786675       1.432515       4.370221\n",
       "std        13.811192       0.495425       1.847672\n",
       "min        14.000000       1.000000       1.000000\n",
       "25%        28.000000       1.000000       2.000000\n",
       "50%        39.000000       1.000000       5.000000\n",
       "75%        50.000000       2.000000       5.000000\n",
       "max       102.000000       2.000000       7.000000"
      ]
     },
     "execution_count": 19,
     "metadata": {},
     "output_type": "execute_result"
    }
   ],
   "source": [
    "dfx.describe()"
   ]
  },
  {
   "cell_type": "code",
   "execution_count": 21,
   "id": "984eb6ec",
   "metadata": {},
   "outputs": [],
   "source": [
    "from sklearn import preprocessing"
   ]
  },
  {
   "cell_type": "code",
   "execution_count": 22,
   "id": "dbd2ea03",
   "metadata": {},
   "outputs": [],
   "source": [
    "std = preprocessing.StandardScaler()\n",
    "std.fit(X)\n",
    "Xstd = std.transform(X)"
   ]
  },
  {
   "cell_type": "code",
   "execution_count": 32,
   "id": "a96d6cb3",
   "metadata": {},
   "outputs": [
    {
     "name": "stdout",
     "output_type": "stream",
     "text": [
      "               0         1         2\n",
      "0       0.377471  1.145452 -0.200372\n",
      "1      -0.998225 -0.873018 -0.200372\n",
      "2      -1.577466 -0.873018 -0.741594\n",
      "3      -1.287846  1.145452 -0.200372\n",
      "4       0.739497 -0.873018  1.423294\n",
      "...          ...       ...       ...\n",
      "899449  1.753168  1.145452  1.423294\n",
      "899450  0.522281 -0.873018  1.423294\n",
      "899451 -0.274175  1.145452  1.423294\n",
      "899452  0.087851  1.145452  0.340850\n",
      "899453  0.956712 -0.873018 -1.282816\n",
      "\n",
      "[899454 rows x 3 columns]\n"
     ]
    }
   ],
   "source": [
    "print(pd.DataFrame(Xstd, columns=dfx.columns))"
   ]
  },
  {
   "cell_type": "code",
   "execution_count": 23,
   "id": "0616c313",
   "metadata": {
    "scrolled": false
   },
   "outputs": [
    {
     "name": "stdout",
     "output_type": "stream",
     "text": [
      "Média 1: 15.20 \n",
      "Desvio 1:19.20\n",
      "Média 2: -0.00 \n",
      "Desvio 2:1.00\n"
     ]
    }
   ],
   "source": [
    "print('Média 1: {:.2f}'.format(X.mean()), '\\nDesvio 1:{:.2f}'.format(X.std()))\n",
    "print('Média 2: {:.2f}'.format(Xstd.mean()), '\\nDesvio 2:{:.2f}'.format(Xstd.std()))"
   ]
  },
  {
   "cell_type": "code",
   "execution_count": 24,
   "id": "cbad109e",
   "metadata": {},
   "outputs": [],
   "source": [
    "minmax = preprocessing.MinMaxScaler()\n",
    "minmax.fit(X)\n",
    "X_minmax = minmax.transform(X)\n"
   ]
  },
  {
   "cell_type": "code",
   "execution_count": 25,
   "id": "ba04958e",
   "metadata": {},
   "outputs": [
    {
     "name": "stdout",
     "output_type": "stream",
     "text": [
      "               0    1         2\n",
      "0       0.352273  1.0  0.500000\n",
      "1       0.136364  0.0  0.500000\n",
      "2       0.045455  0.0  0.333333\n",
      "3       0.090909  1.0  0.500000\n",
      "4       0.409091  0.0  1.000000\n",
      "...          ...  ...       ...\n",
      "899449  0.568182  1.0  1.000000\n",
      "899450  0.375000  0.0  1.000000\n",
      "899451  0.250000  1.0  1.000000\n",
      "899452  0.306818  1.0  0.666667\n",
      "899453  0.443182  0.0  0.166667\n",
      "\n",
      "[899454 rows x 3 columns]\n"
     ]
    }
   ],
   "source": [
    "print(pd.DataFrame(X_minmax, columns=dfx.columns))"
   ]
  },
  {
   "cell_type": "code",
   "execution_count": 27,
   "id": "5bc51eab",
   "metadata": {},
   "outputs": [
    {
     "name": "stdout",
     "output_type": "stream",
     "text": [
      "Média 1: 15.20 \n",
      "Desvio 1:19.20\n",
      "Média 2: 0.43 \n",
      "Desvio 2:0.37\n"
     ]
    }
   ],
   "source": [
    "print('Média 1: {:.2f}'.format(X.mean()), '\\nDesvio 1:{:.2f}'.format(X.std()))\n",
    "print('Média 2: {:.2f}'.format(X_minmax.mean()), '\\nDesvio 2:{:.2f}'.format(X_minmax.std()))"
   ]
  },
  {
   "cell_type": "code",
   "execution_count": 29,
   "id": "9ce3c647",
   "metadata": {},
   "outputs": [],
   "source": [
    "robust_scaler =  preprocessing.RobustScaler()\n",
    "robust_scaler.fit(X)\n",
    "X_robust = robust_scaler.transform(X)"
   ]
  },
  {
   "cell_type": "code",
   "execution_count": 30,
   "id": "d68cbc77",
   "metadata": {},
   "outputs": [
    {
     "name": "stdout",
     "output_type": "stream",
     "text": [
      "               0    1         2\n",
      "0       0.272727  1.0 -0.333333\n",
      "1      -0.590909  0.0 -0.333333\n",
      "2      -0.954545  0.0 -0.666667\n",
      "3      -0.772727  1.0 -0.333333\n",
      "4       0.500000  0.0  0.666667\n",
      "...          ...  ...       ...\n",
      "899449  1.136364  1.0  0.666667\n",
      "899450  0.363636  0.0  0.666667\n",
      "899451 -0.136364  1.0  0.666667\n",
      "899452  0.090909  1.0  0.000000\n",
      "899453  0.636364  0.0 -1.000000\n",
      "\n",
      "[899454 rows x 3 columns]\n"
     ]
    }
   ],
   "source": [
    "print(pd.DataFrame(X_robust, columns=dfx.columns))"
   ]
  },
  {
   "cell_type": "code",
   "execution_count": 31,
   "id": "043520df",
   "metadata": {},
   "outputs": [
    {
     "name": "stdout",
     "output_type": "stream",
     "text": [
      "Média 1: 15.20 \n",
      "Desvio 1:19.20\n",
      "Média 2: 0.09 \n",
      "Desvio 2:0.64\n"
     ]
    }
   ],
   "source": [
    "print('Média 1: {:.2f}'.format(X.mean()), '\\nDesvio 1:{:.2f}'.format(X.std()))\n",
    "print('Média 2: {:.2f}'.format(X_robust.mean()), '\\nDesvio 2:{:.2f}'.format(X_robust.std()))"
   ]
  },
  {
   "cell_type": "code",
   "execution_count": 11,
   "id": "45222499",
   "metadata": {},
   "outputs": [],
   "source": [
    "from sklearn.model_selection import train_test_split"
   ]
  },
  {
   "cell_type": "code",
   "execution_count": 12,
   "id": "14a46067",
   "metadata": {},
   "outputs": [],
   "source": [
    "X_trainset, X_testset, Ytrainset, Y_testset = train_test_split(Xstd,Y,test_size=0.3,random_state=3)"
   ]
  },
  {
   "cell_type": "code",
   "execution_count": 13,
   "id": "8cc8909f",
   "metadata": {},
   "outputs": [],
   "source": [
    "from sklearn.linear_model import SGDClassifier\n",
    "from sklearn.model_selection import GridSearchCV\n",
    "\n",
    "params = {\n",
    "    \"loss\": [\"hinge\",\"log\",\"squared_hinge\", \"modified_huber\", \"perceptron\"]\n",
    "    ,\"alpha\": [0.0001,0.001,0.01, 0.1]\n",
    "    ,\"penalty\": [\"l2\",\"l1\",\"elasticnet\",\"none\"]\n",
    "}\n",
    "\n",
    "clf = SGDClassifier(max_iter=50)\n",
    "grid = GridSearchCV(clf, param_grid=params, cv=10)"
   ]
  },
  {
   "cell_type": "code",
   "execution_count": 14,
   "id": "b282b8a2",
   "metadata": {},
   "outputs": [
    {
     "data": {
      "text/plain": [
       "GridSearchCV(cv=10, estimator=SGDClassifier(max_iter=50),\n",
       "             param_grid={'alpha': [0.0001, 0.001, 0.01, 0.1],\n",
       "                         'loss': ['hinge', 'log', 'squared_hinge',\n",
       "                                  'modified_huber', 'perceptron'],\n",
       "                         'penalty': ['l2', 'l1', 'elasticnet', 'none']})"
      ]
     },
     "execution_count": 14,
     "metadata": {},
     "output_type": "execute_result"
    }
   ],
   "source": [
    "grid.fit(X_trainset, Ytrainset)"
   ]
  },
  {
   "cell_type": "code",
   "execution_count": 17,
   "id": "eb5e78cf",
   "metadata": {},
   "outputs": [
    {
     "name": "stdout",
     "output_type": "stream",
     "text": [
      "{'alpha': 0.0001, 'loss': 'hinge', 'penalty': 'l2'}\n"
     ]
    }
   ],
   "source": [
    "print(grid.best_params_)"
   ]
  },
  {
   "cell_type": "code",
   "execution_count": 15,
   "id": "57d2088f",
   "metadata": {},
   "outputs": [],
   "source": [
    "grid_predictions = grid.predict(X_testset)"
   ]
  },
  {
   "cell_type": "code",
   "execution_count": 16,
   "id": "1040ac89",
   "metadata": {},
   "outputs": [
    {
     "name": "stdout",
     "output_type": "stream",
     "text": [
      "Acurácia: 0.91\n"
     ]
    }
   ],
   "source": [
    "from sklearn.metrics import accuracy_score\n",
    "print('Acurácia: {:.2f}'.format(accuracy_score(Y_testset, grid_predictions)))"
   ]
  },
  {
   "cell_type": "code",
   "execution_count": 17,
   "id": "205c90b7",
   "metadata": {},
   "outputs": [
    {
     "data": {
      "text/plain": [
       "SGDClassifier(max_iter=50)"
      ]
     },
     "execution_count": 17,
     "metadata": {},
     "output_type": "execute_result"
    }
   ],
   "source": [
    "clf = SGDClassifier(loss='hinge', penalty='l2',alpha=0.0001, max_iter=50)\n",
    "clf.fit(X_trainset, Ytrainset)"
   ]
  },
  {
   "cell_type": "code",
   "execution_count": 18,
   "id": "48090de1",
   "metadata": {
    "scrolled": false
   },
   "outputs": [
    {
     "name": "stdout",
     "output_type": "stream",
     "text": [
      "Acurácia: 0.91\n"
     ]
    }
   ],
   "source": [
    "Y_Pred = clf.predict(X_testset)\n",
    "print('Acurácia: {:.2f}'.format(accuracy_score(Y_testset, Y_Pred)))"
   ]
  },
  {
   "cell_type": "code",
   "execution_count": 19,
   "id": "2ad1828f",
   "metadata": {},
   "outputs": [],
   "source": [
    "from sklearn.metrics import confusion_matrix"
   ]
  },
  {
   "cell_type": "code",
   "execution_count": 20,
   "id": "834fb9db",
   "metadata": {},
   "outputs": [],
   "source": [
    "cm = confusion_matrix(Y_testset, Y_Pred)"
   ]
  },
  {
   "cell_type": "code",
   "execution_count": 21,
   "id": "ec693cae",
   "metadata": {
    "scrolled": true
   },
   "outputs": [
    {
     "name": "stdout",
     "output_type": "stream",
     "text": [
      "[[246380      0]\n",
      " [ 23457      0]]\n"
     ]
    }
   ],
   "source": [
    "print(cm)"
   ]
  },
  {
   "cell_type": "code",
   "execution_count": 22,
   "id": "31372958",
   "metadata": {},
   "outputs": [],
   "source": [
    "from sklearn.metrics import accuracy_score, classification_report"
   ]
  },
  {
   "cell_type": "code",
   "execution_count": 26,
   "id": "42e7a1ba",
   "metadata": {
    "scrolled": true
   },
   "outputs": [
    {
     "name": "stdout",
     "output_type": "stream",
     "text": [
      "Acurácia: 0.9130042549677025\n",
      "Acurácia de previsão: 0.9130475064576021\n",
      "              precision    recall  f1-score   support\n",
      "\n",
      "           1       0.91      1.00      0.95    246380\n",
      "           2       0.20      0.00      0.00     23457\n",
      "\n",
      "    accuracy                           0.91    269837\n",
      "   macro avg       0.56      0.50      0.48    269837\n",
      "weighted avg       0.85      0.91      0.87    269837\n",
      "\n"
     ]
    }
   ],
   "source": [
    "from sklearn.tree import DecisionTreeClassifier\n",
    "from sklearn import tree\n",
    "\n",
    "treeClf = DecisionTreeClassifier(random_state=0)\n",
    "treeClf = treeClf.fit(X_trainset,Ytrainset)\n",
    "\n",
    "print('Acurácia:', treeClf.score(X_trainset,Ytrainset))\n",
    "tree_predict = treeClf.predict(X_testset)\n",
    "print('Acurácia de previsão:', accuracy_score(Y_testset,tree_predict))\n",
    "print(classification_report(Y_testset, tree_predict))"
   ]
  },
  {
   "cell_type": "code",
   "execution_count": 33,
   "id": "4305c213",
   "metadata": {},
   "outputs": [],
   "source": [
    "# Sample\n",
    "from sklearn.utils import resample\n",
    "from sklearn.ensemble import RandomForestClassifier"
   ]
  },
  {
   "cell_type": "code",
   "execution_count": 28,
   "id": "9f4562dd",
   "metadata": {},
   "outputs": [
    {
     "name": "stdout",
     "output_type": "stream",
     "text": [
      "         0  1  2\n",
      "0       45  2  4\n",
      "1       26  1  4\n",
      "2       18  1  3\n",
      "3       22  2  4\n",
      "4       50  1  7\n",
      "...     .. .. ..\n",
      "899449  64  2  7\n",
      "899450  47  1  7\n",
      "899451  36  2  7\n",
      "899452  41  2  5\n",
      "899453  53  1  2\n",
      "\n",
      "[899454 rows x 3 columns]\n"
     ]
    }
   ],
   "source": [
    "print(dfx)"
   ]
  },
  {
   "cell_type": "code",
   "execution_count": 79,
   "id": "753751a6",
   "metadata": {},
   "outputs": [],
   "source": [
    "# Separando as features e o target\n",
    "Xups = dfx\n",
    "Yups = dfAno['ocupacao']\n",
    "\n",
    "# Concatenando X e y para facilitar a reamostragem\n",
    "df_combined = pd.concat([Xups, Yups], axis=1)\n",
    "\n",
    "# Separando as classes majoritária e minoritária\n",
    "df_majority = df_combined[df_combined['ocupacao'] == 1]  \n",
    "df_minority = df_combined[df_combined['ocupacao'] == 2]\n",
    "\n",
    "# Sobreamostrando a classe minoritária\n",
    "df_minority_upsampled = resample(df_minority,\n",
    "                                 replace=True,     # Permite amostragem com reposição\n",
    "                                 n_samples=len(df_majority),  # Para igualar o número de exemplos da classe majoritária\n",
    "                                 random_state=42)  # Para reprodutibilidade\n",
    "\n",
    "# Combinando a classe majoritária com a nova classe minoritária sobreamostrada\n",
    "df_upsampled = pd.concat([df_majority, df_minority_upsampled])\n",
    "\n",
    "\n",
    "# Separando novamente em X e y\n",
    "X_upsampled = df_upsampled.drop('ocupacao', axis=1)\n",
    "y_upsampled = df_upsampled['ocupacao']\n",
    "\n",
    "# Dividindo o dataset em treinamento e teste\n",
    "X_train, X_test, y_train, y_test = train_test_split(X_upsampled, y_upsampled, random_state=42)\n"
   ]
  },
  {
   "cell_type": "code",
   "execution_count": 81,
   "id": "057b888b",
   "metadata": {},
   "outputs": [
    {
     "name": "stdout",
     "output_type": "stream",
     "text": [
      "<class 'pandas.core.frame.DataFrame'>\n",
      "Int64Index: 1642436 entries, 0 to 31473\n",
      "Data columns (total 4 columns):\n",
      " #   Column    Non-Null Count    Dtype\n",
      "---  ------    --------------    -----\n",
      " 0   0         1642436 non-null  int64\n",
      " 1   1         1642436 non-null  int64\n",
      " 2   2         1642436 non-null  int64\n",
      " 3   ocupacao  1642436 non-null  int64\n",
      "dtypes: int64(4)\n",
      "memory usage: 62.7 MB\n"
     ]
    }
   ],
   "source": [
    "df_upsampled.info()"
   ]
  },
  {
   "cell_type": "code",
   "execution_count": 80,
   "id": "7da7cd74",
   "metadata": {
    "scrolled": true
   },
   "outputs": [
    {
     "name": "stdout",
     "output_type": "stream",
     "text": [
      "Acurácia: 0.6513138614432059\n",
      "Acurácia de previsão: 0.6499199968826791\n",
      "              precision    recall  f1-score   support\n",
      "\n",
      "           1       0.64      0.69      0.66    204876\n",
      "           2       0.66      0.61      0.64    205733\n",
      "\n",
      "    accuracy                           0.65    410609\n",
      "   macro avg       0.65      0.65      0.65    410609\n",
      "weighted avg       0.65      0.65      0.65    410609\n",
      "\n"
     ]
    }
   ],
   "source": [
    "# Treinando o modelo\n",
    "clf = RandomForestClassifier(random_state=0)\n",
    "clf.fit(X_train, y_train)\n",
    "print('Acurácia:', clf.score(X_train,y_train))\n",
    "# Fazendo previsões\n",
    "y_pred = clf.predict(X_test)\n",
    "print('Acurácia de previsão:', accuracy_score(y_test,y_pred))\n",
    "# Avaliando o modelo\n",
    "print(classification_report(y_test, y_pred))"
   ]
  },
  {
   "cell_type": "code",
   "execution_count": 82,
   "id": "b2b54aff",
   "metadata": {
    "scrolled": true
   },
   "outputs": [
    {
     "name": "stdout",
     "output_type": "stream",
     "text": [
      "Acurácia: 0.6350696972870379\n",
      "Acurácia de previsão: 0.6347522825851357\n",
      "              precision    recall  f1-score   support\n",
      "\n",
      "           1       0.66      0.55      0.60    204876\n",
      "           2       0.62      0.71      0.66    205733\n",
      "\n",
      "    accuracy                           0.63    410609\n",
      "   macro avg       0.64      0.63      0.63    410609\n",
      "weighted avg       0.64      0.63      0.63    410609\n",
      "\n"
     ]
    }
   ],
   "source": [
    "clf = SGDClassifier(max_iter=1000)\n",
    "clf.fit(X_train, y_train)\n",
    "print('Acurácia:', clf.score(X_train,y_train))\n",
    "# Fazendo previsões\n",
    "y_pred = clf.predict(X_test)\n",
    "print('Acurácia de previsão:', accuracy_score(y_test,y_pred))\n",
    "# Avaliando o modelo\n",
    "print(classification_report(y_test, y_pred))"
   ]
  },
  {
   "cell_type": "code",
   "execution_count": null,
   "id": "d2a2f0e2",
   "metadata": {},
   "outputs": [],
   "source": [
    "# Verificando hiperparametros"
   ]
  },
  {
   "cell_type": "code",
   "execution_count": 61,
   "id": "ae09d8ee",
   "metadata": {},
   "outputs": [],
   "source": [
    "params = {\n",
    "    \"loss\": [\"hinge\",\"log\",\"squared_hinge\", \"modified_huber\", \"perceptron\"]\n",
    "    ,\"alpha\": [0.0001,0.001,0.01, 0.1]\n",
    "    ,\"penalty\": [\"l2\",\"l1\",\"elasticnet\",\"none\"]\n",
    "}\n",
    "\n",
    "clf = SGDClassifier(max_iter=1000)\n",
    "grid = GridSearchCV(clf, param_grid=params, cv= 3, scoring=\"accuracy\", n_jobs = -1)\n",
    "#GridSearchCV(clf, param_grid=params, cv=3)"
   ]
  },
  {
   "cell_type": "code",
   "execution_count": 62,
   "id": "703de4b9",
   "metadata": {
    "scrolled": false
   },
   "outputs": [
    {
     "data": {
      "text/plain": [
       "GridSearchCV(cv=3, estimator=SGDClassifier(), n_jobs=-1,\n",
       "             param_grid={'alpha': [0.0001, 0.001, 0.01, 0.1],\n",
       "                         'loss': ['hinge', 'log', 'squared_hinge',\n",
       "                                  'modified_huber', 'perceptron'],\n",
       "                         'penalty': ['l2', 'l1', 'elasticnet', 'none']},\n",
       "             scoring='accuracy')"
      ]
     },
     "execution_count": 62,
     "metadata": {},
     "output_type": "execute_result"
    }
   ],
   "source": [
    "grid.fit(X_train, y_train)"
   ]
  },
  {
   "cell_type": "code",
   "execution_count": 63,
   "id": "ca561b78",
   "metadata": {
    "scrolled": true
   },
   "outputs": [
    {
     "name": "stdout",
     "output_type": "stream",
     "text": [
      "{'alpha': 0.0001, 'loss': 'hinge', 'penalty': 'l1'}\n"
     ]
    }
   ],
   "source": [
    "print(grid.best_params_)"
   ]
  },
  {
   "cell_type": "code",
   "execution_count": 64,
   "id": "5e688db1",
   "metadata": {},
   "outputs": [
    {
     "data": {
      "text/plain": [
       "SGDClassifier(penalty='l1')"
      ]
     },
     "execution_count": 64,
     "metadata": {},
     "output_type": "execute_result"
    }
   ],
   "source": [
    "clf = SGDClassifier(loss='hinge', penalty='l1',alpha=0.0001, max_iter=1000)\n",
    "clf.fit(X_train, y_train)"
   ]
  },
  {
   "cell_type": "code",
   "execution_count": 65,
   "id": "6736bab9",
   "metadata": {},
   "outputs": [
    {
     "name": "stdout",
     "output_type": "stream",
     "text": [
      "Acurácia: 0.6403829433840953\n",
      "Acurácia de previsão: 0.6398715079309026\n",
      "              precision    recall  f1-score   support\n",
      "\n",
      "           1       0.61      0.76      0.68    204876\n",
      "           2       0.68      0.52      0.59    205733\n",
      "\n",
      "    accuracy                           0.64    410609\n",
      "   macro avg       0.65      0.64      0.64    410609\n",
      "weighted avg       0.65      0.64      0.63    410609\n",
      "\n"
     ]
    }
   ],
   "source": [
    "print('Acurácia:', clf.score(X_train,y_train))\n",
    "# Fazendo previsões\n",
    "y_pred = clf.predict(X_test)\n",
    "print('Acurácia de previsão:', accuracy_score(y_test,y_pred))\n",
    "# Avaliando o modelo\n",
    "print(classification_report(y_test, y_pred))"
   ]
  },
  {
   "cell_type": "code",
   "execution_count": 66,
   "id": "8820b016",
   "metadata": {
    "scrolled": true
   },
   "outputs": [
    {
     "name": "stdout",
     "output_type": "stream",
     "text": [
      "Acurácia: 0.6513154850478192\n",
      "Acurácia de previsão: 0.649932173917279\n",
      "              precision    recall  f1-score   support\n",
      "\n",
      "           1       0.64      0.68      0.66    204876\n",
      "           2       0.66      0.62      0.64    205733\n",
      "\n",
      "    accuracy                           0.65    410609\n",
      "   macro avg       0.65      0.65      0.65    410609\n",
      "weighted avg       0.65      0.65      0.65    410609\n",
      "\n"
     ]
    }
   ],
   "source": [
    "# DecisionTree\n",
    "\n",
    "dtc = DecisionTreeClassifier()\n",
    "dtc = dtc.fit(X_train, y_train)\n",
    "\n",
    "print('Acurácia:', dtc.score(X_train,y_train))\n",
    "dtc_pred = dtc.predict(X_test)\n",
    "print('Acurácia de previsão:', accuracy_score(y_test,dtc_pred))\n",
    "print(classification_report(y_test, dtc_pred))"
   ]
  },
  {
   "cell_type": "code",
   "execution_count": 83,
   "id": "cf44f806",
   "metadata": {},
   "outputs": [],
   "source": [
    "params = {\n",
    "    \"criterion\": [\"gini\",\"entropy\"]\n",
    "    ,\"max_depth\":[None,2,3,5,7,10]\n",
    "    ,\"min_samples_leaf\":[1,3,5,7,10]\n",
    "}\n",
    "\n",
    "grid = GridSearchCV(dtc, param_grid=params, cv=3, scoring=\"accuracy\")"
   ]
  },
  {
   "cell_type": "code",
   "execution_count": 84,
   "id": "d2df56be",
   "metadata": {},
   "outputs": [
    {
     "data": {
      "text/plain": [
       "GridSearchCV(cv=3, estimator=DecisionTreeClassifier(),\n",
       "             param_grid={'criterion': ['gini', 'entropy'],\n",
       "                         'max_depth': [None, 2, 3, 5, 7, 10],\n",
       "                         'min_samples_leaf': [1, 3, 5, 7, 10]},\n",
       "             scoring='accuracy')"
      ]
     },
     "execution_count": 84,
     "metadata": {},
     "output_type": "execute_result"
    }
   ],
   "source": [
    "grid.fit(X_train, y_train)"
   ]
  },
  {
   "cell_type": "code",
   "execution_count": 85,
   "id": "8ad981ab",
   "metadata": {},
   "outputs": [
    {
     "name": "stdout",
     "output_type": "stream",
     "text": [
      "{'criterion': 'gini', 'max_depth': None, 'min_samples_leaf': 1}\n"
     ]
    }
   ],
   "source": [
    "print(grid.best_params_)"
   ]
  },
  {
   "cell_type": "code",
   "execution_count": 86,
   "id": "277e9568",
   "metadata": {},
   "outputs": [
    {
     "name": "stdout",
     "output_type": "stream",
     "text": [
      "Acurácia: 0.6513154850478192\n",
      "Acurácia de previsão: 0.649932173917279\n",
      "              precision    recall  f1-score   support\n",
      "\n",
      "           1       0.64      0.68      0.66    204876\n",
      "           2       0.66      0.62      0.64    205733\n",
      "\n",
      "    accuracy                           0.65    410609\n",
      "   macro avg       0.65      0.65      0.65    410609\n",
      "weighted avg       0.65      0.65      0.65    410609\n",
      "\n"
     ]
    }
   ],
   "source": [
    "dtc = DecisionTreeClassifier(criterion= 'gini', max_depth= None, min_samples_leaf= 1)\n",
    "dtc = dtc.fit(X_train, y_train)\n",
    "\n",
    "print('Acurácia:', dtc.score(X_train,y_train))\n",
    "dtc_pred = dtc.predict(X_test)\n",
    "print('Acurácia de previsão:', accuracy_score(y_test,dtc_pred))\n",
    "print(classification_report(y_test, dtc_pred))"
   ]
  },
  {
   "cell_type": "code",
   "execution_count": 94,
   "id": "b04cdc9a",
   "metadata": {},
   "outputs": [
    {
     "data": {
      "text/plain": [
       "RandomizedSearchCV(cv=3, estimator=DecisionTreeClassifier(), n_iter=1000,\n",
       "                   param_distributions={'criterion': ['gini', 'entropy'],\n",
       "                                        'max_depth': [None, 2, 3, 5, 7, 10],\n",
       "                                        'min_samples_leaf': [1, 2, 3, 4, 5, 6,\n",
       "                                                             7, 8, 9, 10, 11,\n",
       "                                                             12, 13, 14, 15, 16,\n",
       "                                                             17, 18, 19],\n",
       "                                        'min_samples_split': [2, 3, 4, 5, 6, 7,\n",
       "                                                              8, 9, 10, 11, 12,\n",
       "                                                              13, 14, 15, 16,\n",
       "                                                              17, 18, 19]},\n",
       "                   random_state=42, scoring='accuracy')"
      ]
     },
     "execution_count": 94,
     "metadata": {},
     "output_type": "execute_result"
    }
   ],
   "source": [
    "from sklearn.model_selection import RandomizedSearchCV\n",
    "\n",
    "param_dist = {\n",
    "    'min_samples_split': list(range(2, 20))\n",
    "    ,'min_samples_leaf': list(range(1, 20))\n",
    "    ,\"max_depth\":[None,2,3,5,7,10]\n",
    "    ,\"criterion\": [\"gini\",\"entropy\"]\n",
    "}\n",
    "\n",
    "random_search = RandomizedSearchCV(dtc, param_distributions=param_dist, scoring=\"accuracy\",\n",
    "                                   n_iter=1000, cv=3, random_state=42)\n",
    "random_search.fit(X_train, y_train)\n"
   ]
  },
  {
   "cell_type": "code",
   "execution_count": 95,
   "id": "1186b605",
   "metadata": {},
   "outputs": [
    {
     "name": "stdout",
     "output_type": "stream",
     "text": [
      "{'min_samples_split': 3, 'min_samples_leaf': 1, 'max_depth': None, 'criterion': 'entropy'}\n"
     ]
    }
   ],
   "source": [
    "print(random_search.best_params_)"
   ]
  },
  {
   "cell_type": "code",
   "execution_count": 112,
   "id": "bc5eae85",
   "metadata": {},
   "outputs": [
    {
     "name": "stdout",
     "output_type": "stream",
     "text": [
      "Acurácia: 0.6513154850478192\n",
      "Acurácia de previsão: 0.649932173917279\n",
      "              precision    recall  f1-score   support\n",
      "\n",
      "           1       0.64      0.68      0.66    204876\n",
      "           2       0.66      0.62      0.64    205733\n",
      "\n",
      "    accuracy                           0.65    410609\n",
      "   macro avg       0.65      0.65      0.65    410609\n",
      "weighted avg       0.65      0.65      0.65    410609\n",
      "\n"
     ]
    }
   ],
   "source": [
    "dtc = DecisionTreeClassifier(criterion= 'entropy', max_depth= None, min_samples_leaf= 1, min_samples_split=3\n",
    "                             \n",
    "                            )\n",
    "dtc = dtc.fit(X_train, y_train)\n",
    "\n",
    "print('Acurácia:', dtc.score(X_train,y_train))\n",
    "dtc_pred = dtc.predict(X_test)\n",
    "print('Acurácia de previsão:', accuracy_score(y_test,dtc_pred))\n",
    "print(classification_report(y_test, dtc_pred))"
   ]
  },
  {
   "cell_type": "code",
   "execution_count": 113,
   "id": "3dca4ffc",
   "metadata": {},
   "outputs": [
    {
     "data": {
      "text/plain": [
       "RandomForestClassifier()"
      ]
     },
     "execution_count": 113,
     "metadata": {},
     "output_type": "execute_result"
    }
   ],
   "source": [
    "# RandomForestClassifier\n",
    "rfclf = RandomForestClassifier()\n",
    "rfclf.fit(X_train, y_train)"
   ]
  },
  {
   "cell_type": "code",
   "execution_count": 114,
   "id": "8cb7a9b2",
   "metadata": {
    "scrolled": true
   },
   "outputs": [
    {
     "name": "stdout",
     "output_type": "stream",
     "text": [
      "Acurácia: 0.651308990629366\n",
      "Acurácia de previsão: 0.6499346093241989\n",
      "              precision    recall  f1-score   support\n",
      "\n",
      "           1       0.64      0.69      0.66    204876\n",
      "           2       0.66      0.61      0.64    205733\n",
      "\n",
      "    accuracy                           0.65    410609\n",
      "   macro avg       0.65      0.65      0.65    410609\n",
      "weighted avg       0.65      0.65      0.65    410609\n",
      "\n"
     ]
    }
   ],
   "source": [
    "print('Acurácia:', rfclf.score(X_train,y_train))\n",
    "# Fazendo previsões\n",
    "y_pred = rfclf.predict(X_test)\n",
    "print('Acurácia de previsão:', accuracy_score(y_test,y_pred))\n",
    "# Avaliando o modelo\n",
    "print(classification_report(y_test, y_pred))"
   ]
  },
  {
   "cell_type": "code",
   "execution_count": 121,
   "id": "1c5699ed",
   "metadata": {},
   "outputs": [],
   "source": [
    "#Hiperparametros\n",
    "param_dist = {\n",
    "    \"n_estimators\": list(range(10,100,10))\n",
    "    ,\"max_depth\": list(range(0,11))\n",
    "    #,\"max_features\":[1,2,3]\n",
    "    ,\"min_samples_split\": list(range(2, 11))\n",
    "    ,\"criterion\": [\"gini\",\"entropy\"]\n",
    "}"
   ]
  },
  {
   "cell_type": "code",
   "execution_count": 122,
   "id": "0cc8d8c6",
   "metadata": {},
   "outputs": [],
   "source": [
    "rf_random_search = RandomizedSearchCV(rfclf, param_distributions=param_dist, scoring=\"accuracy\",\n",
    "                                   n_iter=50, cv=3, random_state=42)"
   ]
  },
  {
   "cell_type": "code",
   "execution_count": 123,
   "id": "db231aeb",
   "metadata": {},
   "outputs": [
    {
     "name": "stderr",
     "output_type": "stream",
     "text": [
      "D:\\anaconda3\\lib\\site-packages\\sklearn\\model_selection\\_validation.py:372: FitFailedWarning: \n",
      "12 fits failed out of a total of 150.\n",
      "The score on these train-test partitions for these parameters will be set to nan.\n",
      "If these failures are not expected, you can try to debug them by setting error_score='raise'.\n",
      "\n",
      "Below are more details about the failures:\n",
      "--------------------------------------------------------------------------------\n",
      "12 fits failed with the following error:\n",
      "Traceback (most recent call last):\n",
      "  File \"D:\\anaconda3\\lib\\site-packages\\sklearn\\model_selection\\_validation.py\", line 680, in _fit_and_score\n",
      "    estimator.fit(X_train, y_train, **fit_params)\n",
      "  File \"D:\\anaconda3\\lib\\site-packages\\sklearn\\ensemble\\_forest.py\", line 450, in fit\n",
      "    trees = Parallel(\n",
      "  File \"D:\\anaconda3\\lib\\site-packages\\joblib\\parallel.py\", line 1918, in __call__\n",
      "    return output if self.return_generator else list(output)\n",
      "  File \"D:\\anaconda3\\lib\\site-packages\\joblib\\parallel.py\", line 1847, in _get_sequential_output\n",
      "    res = func(*args, **kwargs)\n",
      "  File \"D:\\anaconda3\\lib\\site-packages\\sklearn\\utils\\fixes.py\", line 216, in __call__\n",
      "    return self.function(*args, **kwargs)\n",
      "  File \"D:\\anaconda3\\lib\\site-packages\\sklearn\\ensemble\\_forest.py\", line 185, in _parallel_build_trees\n",
      "    tree.fit(X, y, sample_weight=curr_sample_weight, check_input=False)\n",
      "  File \"D:\\anaconda3\\lib\\site-packages\\sklearn\\tree\\_classes.py\", line 937, in fit\n",
      "    super().fit(\n",
      "  File \"D:\\anaconda3\\lib\\site-packages\\sklearn\\tree\\_classes.py\", line 306, in fit\n",
      "    raise ValueError(\"max_depth must be greater than zero. \")\n",
      "ValueError: max_depth must be greater than zero. \n",
      "\n",
      "  warnings.warn(some_fits_failed_message, FitFailedWarning)\n",
      "D:\\anaconda3\\lib\\site-packages\\sklearn\\model_selection\\_search.py:969: UserWarning: One or more of the test scores are non-finite: [0.65045497 0.64976738 0.64227201 0.65032915 0.6503056  0.64514741\n",
      " 0.64954657 0.64968376 0.64954657 0.63262536 0.65020819 0.63656179\n",
      " 0.63827794 0.65017815 0.64819005 0.64954657 0.63749699 0.64960989\n",
      " 0.65037867 0.64778658 0.64977793 0.6290307  0.64977712 0.64949867\n",
      " 0.64972435        nan        nan 0.64949867 0.64979092 0.64954657\n",
      " 0.64954657 0.64777603 0.64989077 0.64956849 0.63205304 0.64978037\n",
      " 0.64954657        nan 0.64819005 0.65042737 0.65042494 0.64980066\n",
      " 0.63615508 0.64954657 0.64662489 0.64992    0.64953033 0.65018464\n",
      " 0.65030966        nan]\n",
      "  warnings.warn(\n"
     ]
    },
    {
     "data": {
      "text/plain": [
       "RandomizedSearchCV(cv=3, estimator=RandomForestClassifier(), n_iter=50,\n",
       "                   param_distributions={'criterion': ['gini', 'entropy'],\n",
       "                                        'max_depth': [0, 1, 2, 3, 4, 5, 6, 7, 8,\n",
       "                                                      9, 10],\n",
       "                                        'min_samples_split': [2, 3, 4, 5, 6, 7,\n",
       "                                                              8, 9, 10],\n",
       "                                        'n_estimators': [10, 20, 30, 40, 50, 60,\n",
       "                                                         70, 80, 90]},\n",
       "                   random_state=42, scoring='accuracy')"
      ]
     },
     "execution_count": 123,
     "metadata": {},
     "output_type": "execute_result"
    }
   ],
   "source": [
    "rf_random_search.fit(X_train, y_train)"
   ]
  },
  {
   "cell_type": "code",
   "execution_count": 124,
   "id": "31ce09a3",
   "metadata": {},
   "outputs": [
    {
     "name": "stdout",
     "output_type": "stream",
     "text": [
      "{'n_estimators': 60, 'min_samples_split': 3, 'max_depth': 10, 'criterion': 'gini'}\n"
     ]
    }
   ],
   "source": [
    "print(rf_random_search.best_params_)"
   ]
  },
  {
   "cell_type": "code",
   "execution_count": 125,
   "id": "eadc99cf",
   "metadata": {},
   "outputs": [
    {
     "data": {
      "text/plain": [
       "RandomForestClassifier(max_depth=10, min_samples_split=3, n_estimators=60)"
      ]
     },
     "execution_count": 125,
     "metadata": {},
     "output_type": "execute_result"
    }
   ],
   "source": [
    "rfclf = RandomForestClassifier(n_estimators=60,min_samples_split=3,max_depth=10,criterion='gini')\n",
    "rfclf.fit(X_train, y_train)"
   ]
  },
  {
   "cell_type": "code",
   "execution_count": 126,
   "id": "290b6bba",
   "metadata": {},
   "outputs": [
    {
     "name": "stdout",
     "output_type": "stream",
     "text": [
      "Acurácia: 0.6510467784843164\n",
      "Acurácia de previsão: 0.6498298868266404\n",
      "              precision    recall  f1-score   support\n",
      "\n",
      "           1       0.64      0.69      0.66    204876\n",
      "           2       0.66      0.61      0.64    205733\n",
      "\n",
      "    accuracy                           0.65    410609\n",
      "   macro avg       0.65      0.65      0.65    410609\n",
      "weighted avg       0.65      0.65      0.65    410609\n",
      "\n"
     ]
    }
   ],
   "source": [
    "print('Acurácia:', rfclf.score(X_train,y_train))\n",
    "# Fazendo previsões\n",
    "y_pred = rfclf.predict(X_test)\n",
    "print('Acurácia de previsão:', accuracy_score(y_test,y_pred))\n",
    "# Avaliando o modelo\n",
    "print(classification_report(y_test, y_pred))"
   ]
  },
  {
   "cell_type": "code",
   "execution_count": 127,
   "id": "c7bd32e0",
   "metadata": {},
   "outputs": [
    {
     "name": "stdout",
     "output_type": "stream",
     "text": [
      "\n",
      "Gradient Boosting Metrics:\n",
      "              precision    recall  f1-score   support\n",
      "\n",
      "     Ocupado       0.64      0.69      0.66    204876\n",
      "  Desocupado       0.66      0.61      0.63    205733\n",
      "\n",
      "    accuracy                           0.65    410609\n",
      "   macro avg       0.65      0.65      0.65    410609\n",
      "weighted avg       0.65      0.65      0.65    410609\n",
      "\n"
     ]
    }
   ],
   "source": [
    "from sklearn.ensemble import  GradientBoostingClassifier\n",
    "\n",
    "# Gradient Boosting\n",
    "gbm = GradientBoostingClassifier(random_state=42)\n",
    "gbm.fit(X_train, y_train)\n",
    "y_pred_gbm = gbm.predict(X_test)\n",
    "\n",
    "print(\"\\nGradient Boosting Metrics:\")\n",
    "print(classification_report(y_test, y_pred_gbm, target_names=['Ocupado', 'Desocupado']))"
   ]
  },
  {
   "cell_type": "code",
   "execution_count": 128,
   "id": "e7d8ac4a",
   "metadata": {
    "scrolled": true
   },
   "outputs": [
    {
     "name": "stdout",
     "output_type": "stream",
     "text": [
      "Acurácia: 0.6496301834592033\n",
      "Acurácia de previsão: 0.6492478245727688\n",
      "              precision    recall  f1-score   support\n",
      "\n",
      "           1       0.64      0.69      0.66    204876\n",
      "           2       0.66      0.61      0.63    205733\n",
      "\n",
      "    accuracy                           0.65    410609\n",
      "   macro avg       0.65      0.65      0.65    410609\n",
      "weighted avg       0.65      0.65      0.65    410609\n",
      "\n"
     ]
    }
   ],
   "source": [
    "print('Acurácia:', gbm.score(X_train,y_train))\n",
    "# Fazendo previsões\n",
    "y_pred = gbm.predict(X_test)\n",
    "print('Acurácia de previsão:', accuracy_score(y_test,y_pred))\n",
    "# Avaliando o modelo\n",
    "print(classification_report(y_test, y_pred))"
   ]
  },
  {
   "cell_type": "code",
   "execution_count": 84,
   "id": "139e34bd",
   "metadata": {},
   "outputs": [],
   "source": [
    "from sklearn.linear_model import LogisticRegression"
   ]
  },
  {
   "cell_type": "code",
   "execution_count": 130,
   "id": "a67243b0",
   "metadata": {},
   "outputs": [
    {
     "data": {
      "text/plain": [
       "LogisticRegression()"
      ]
     },
     "execution_count": 130,
     "metadata": {},
     "output_type": "execute_result"
    }
   ],
   "source": [
    "lr = LogisticRegression()\n",
    "lr.fit(X_train, y_train)"
   ]
  },
  {
   "cell_type": "code",
   "execution_count": 131,
   "id": "69b590ff",
   "metadata": {
    "scrolled": true
   },
   "outputs": [
    {
     "name": "stdout",
     "output_type": "stream",
     "text": [
      "Acurácia: 0.6425106772298382\n",
      "Acurácia de previsão: 0.641527584636479\n",
      "              precision    recall  f1-score   support\n",
      "\n",
      "           1       0.64      0.63      0.64    204876\n",
      "           2       0.64      0.66      0.65    205733\n",
      "\n",
      "    accuracy                           0.64    410609\n",
      "   macro avg       0.64      0.64      0.64    410609\n",
      "weighted avg       0.64      0.64      0.64    410609\n",
      "\n"
     ]
    }
   ],
   "source": [
    "print('Acurácia:', lr.score(X_train,y_train))\n",
    "# Fazendo previsões\n",
    "y_pred = lr.predict(X_test)\n",
    "print('Acurácia de previsão:', accuracy_score(y_test,y_pred))\n",
    "# Avaliando o modelo\n",
    "print(classification_report(y_test, y_pred))"
   ]
  },
  {
   "cell_type": "code",
   "execution_count": 86,
   "id": "c0de17aa",
   "metadata": {},
   "outputs": [
    {
     "name": "stdout",
     "output_type": "stream",
     "text": [
      "{'C': 0.01, 'penalty': 'l2', 'solver': 'liblinear'}\n"
     ]
    }
   ],
   "source": [
    "solvers = ['newton-cg', 'lbfgs', 'liblinear']\n",
    "penalty = ['l2']\n",
    "c_values = [100, 10, 1.0, 0.1, 0.01]\n",
    "# define grid search\n",
    "grid = dict(solver=solvers,penalty=penalty,C=c_values)\n",
    "grid_search = GridSearchCV(estimator=lr, param_grid=grid, n_jobs=-1, cv=10, scoring='accuracy',error_score=0)\n",
    "grid_result = grid_search.fit(X_train, y_train)\n",
    "print(grid_result.best_params_)"
   ]
  },
  {
   "cell_type": "code",
   "execution_count": 88,
   "id": "1558998c",
   "metadata": {},
   "outputs": [
    {
     "name": "stdout",
     "output_type": "stream",
     "text": [
      "Acurácia: 0.6425139244390649\n",
      "Acurácia de previsão: 0.641525149229559\n",
      "              precision    recall  f1-score   support\n",
      "\n",
      "           1       0.64      0.63      0.64    204876\n",
      "           2       0.64      0.66      0.65    205733\n",
      "\n",
      "    accuracy                           0.64    410609\n",
      "   macro avg       0.64      0.64      0.64    410609\n",
      "weighted avg       0.64      0.64      0.64    410609\n",
      "\n"
     ]
    }
   ],
   "source": [
    "lr = LogisticRegression(C=0.01, penalty='l2', solver='liblinear')\n",
    "lr.fit(X_train, y_train)\n",
    "print('Acurácia:', lr.score(X_train,y_train))\n",
    "# Fazendo previsões\n",
    "y_pred = lr.predict(X_test)\n",
    "print('Acurácia de previsão:', accuracy_score(y_test,y_pred))\n",
    "# Avaliando o modelo\n",
    "print(classification_report(y_test, y_pred))"
   ]
  },
  {
   "cell_type": "code",
   "execution_count": 90,
   "id": "944f144f",
   "metadata": {},
   "outputs": [],
   "source": [
    "from sklearn.naive_bayes import GaussianNB"
   ]
  },
  {
   "cell_type": "code",
   "execution_count": 133,
   "id": "6ef0a25c",
   "metadata": {},
   "outputs": [
    {
     "data": {
      "text/plain": [
       "GaussianNB()"
      ]
     },
     "execution_count": 133,
     "metadata": {},
     "output_type": "execute_result"
    }
   ],
   "source": [
    "gncl = GaussianNB()\n",
    "gncl.fit(X_train, y_train)"
   ]
  },
  {
   "cell_type": "code",
   "execution_count": 134,
   "id": "54640df4",
   "metadata": {
    "scrolled": true
   },
   "outputs": [
    {
     "name": "stdout",
     "output_type": "stream",
     "text": [
      "Acurácia: 0.6380546943686086\n",
      "Acurácia de previsão: 0.637465325893977\n",
      "              precision    recall  f1-score   support\n",
      "\n",
      "           1       0.65      0.59      0.62    204876\n",
      "           2       0.63      0.68      0.65    205733\n",
      "\n",
      "    accuracy                           0.64    410609\n",
      "   macro avg       0.64      0.64      0.64    410609\n",
      "weighted avg       0.64      0.64      0.64    410609\n",
      "\n"
     ]
    }
   ],
   "source": [
    "print('Acurácia:', gncl.score(X_train,y_train))\n",
    "nb_predict = gncl.predict(X_test)\n",
    "print('Acurácia de previsão:', accuracy_score(y_test,nb_predict))\n",
    "print(classification_report(y_test, nb_predict))"
   ]
  },
  {
   "cell_type": "code",
   "execution_count": 92,
   "id": "7c02cb6c",
   "metadata": {},
   "outputs": [
    {
     "data": {
      "text/plain": [
       "{'var_smoothing': 0.0001873817422860383}"
      ]
     },
     "execution_count": 92,
     "metadata": {},
     "output_type": "execute_result"
    }
   ],
   "source": [
    "params_NB = {'var_smoothing': np.logspace(0,-9, num=100)}\n",
    "gs_NB = GridSearchCV(estimator=gncl, \n",
    "                 param_grid=params_NB, \n",
    "                 cv=10,   # use any cross validation technique \n",
    "                 verbose=0, \n",
    "                 scoring='accuracy') \n",
    "gs_NB.fit(X_train, y_train)\n",
    "\n",
    "gs_NB.best_params_"
   ]
  },
  {
   "cell_type": "code",
   "execution_count": 94,
   "id": "53799798",
   "metadata": {},
   "outputs": [],
   "source": [
    "from sklearn.neighbors import KNeighborsClassifier"
   ]
  },
  {
   "cell_type": "code",
   "execution_count": 93,
   "id": "35e9497c",
   "metadata": {},
   "outputs": [
    {
     "name": "stdout",
     "output_type": "stream",
     "text": [
      "Acurácia: 0.6387674567938517\n",
      "Acurácia de previsão: 0.6380400819270888\n",
      "              precision    recall  f1-score   support\n",
      "\n",
      "           1       0.65      0.60      0.62    204876\n",
      "           2       0.63      0.68      0.65    205733\n",
      "\n",
      "    accuracy                           0.64    410609\n",
      "   macro avg       0.64      0.64      0.64    410609\n",
      "weighted avg       0.64      0.64      0.64    410609\n",
      "\n"
     ]
    }
   ],
   "source": [
    "gncl = GaussianNB(var_smoothing=0.0001873817422860383)\n",
    "gncl.fit(X_train, y_train)\n",
    "print('Acurácia:', gncl.score(X_train,y_train))\n",
    "nb_predict = gncl.predict(X_test)\n",
    "print('Acurácia de previsão:', accuracy_score(y_test,nb_predict))\n",
    "print(classification_report(y_test, nb_predict))"
   ]
  },
  {
   "cell_type": "code",
   "execution_count": 136,
   "id": "6ffaf3d7",
   "metadata": {},
   "outputs": [
    {
     "data": {
      "text/plain": [
       "KNeighborsClassifier()"
      ]
     },
     "execution_count": 136,
     "metadata": {},
     "output_type": "execute_result"
    }
   ],
   "source": [
    "# KNN\n",
    "kncl = KNeighborsClassifier()\n",
    "kncl.fit(X_train, y_train)"
   ]
  },
  {
   "cell_type": "code",
   "execution_count": 137,
   "id": "0250d0e8",
   "metadata": {
    "scrolled": true
   },
   "outputs": [
    {
     "name": "stderr",
     "output_type": "stream",
     "text": [
      "D:\\anaconda3\\lib\\site-packages\\sklearn\\neighbors\\_classification.py:228: FutureWarning: Unlike other reduction functions (e.g. `skew`, `kurtosis`), the default behavior of `mode` typically preserves the axis it acts along. In SciPy 1.11.0, this behavior will change: the default value of `keepdims` will become False, the `axis` over which the statistic is taken will be eliminated, and the value None will no longer be accepted. Set `keepdims` to True or False to avoid this warning.\n",
      "  mode, _ = stats.mode(_y[neigh_ind, k], axis=1)\n"
     ]
    },
    {
     "name": "stdout",
     "output_type": "stream",
     "text": [
      "Acurácia: 0.5926660156012167\n"
     ]
    },
    {
     "name": "stderr",
     "output_type": "stream",
     "text": [
      "D:\\anaconda3\\lib\\site-packages\\sklearn\\neighbors\\_classification.py:228: FutureWarning: Unlike other reduction functions (e.g. `skew`, `kurtosis`), the default behavior of `mode` typically preserves the axis it acts along. In SciPy 1.11.0, this behavior will change: the default value of `keepdims` will become False, the `axis` over which the statistic is taken will be eliminated, and the value None will no longer be accepted. Set `keepdims` to True or False to avoid this warning.\n",
      "  mode, _ = stats.mode(_y[neigh_ind, k], axis=1)\n"
     ]
    },
    {
     "name": "stdout",
     "output_type": "stream",
     "text": [
      "Acurácia de previsão: 0.5915652116733925\n",
      "              precision    recall  f1-score   support\n",
      "\n",
      "           1       0.59      0.60      0.59    204876\n",
      "           2       0.59      0.58      0.59    205733\n",
      "\n",
      "    accuracy                           0.59    410609\n",
      "   macro avg       0.59      0.59      0.59    410609\n",
      "weighted avg       0.59      0.59      0.59    410609\n",
      "\n"
     ]
    }
   ],
   "source": [
    "print('Acurácia:', kncl.score(X_train,y_train))\n",
    "knn_predict = kncl.predict(X_test)\n",
    "print('Acurácia de previsão:', accuracy_score(y_test,knn_predict))\n",
    "print(classification_report(y_test, knn_predict))"
   ]
  },
  {
   "cell_type": "code",
   "execution_count": 96,
   "id": "b92897d5",
   "metadata": {},
   "outputs": [
    {
     "name": "stdout",
     "output_type": "stream",
     "text": [
      "Fitting 3 folds for each of 36 candidates, totalling 108 fits\n"
     ]
    },
    {
     "data": {
      "text/plain": [
       "{'metric': 'minkowski', 'n_neighbors': 15, 'weights': 'distance'}"
      ]
     },
     "execution_count": 96,
     "metadata": {},
     "output_type": "execute_result"
    }
   ],
   "source": [
    "grid_params = { 'n_neighbors' : [5,7,9,11,13,15],\n",
    "               'weights' : ['uniform','distance'],\n",
    "               'metric' : ['minkowski','euclidean','manhattan']}\n",
    "\n",
    "gs = GridSearchCV(kncl, grid_params, verbose = 1, cv=3, n_jobs = -1)\n",
    "g_res = gs.fit(X_train, y_train)\n",
    "g_res.best_params_"
   ]
  },
  {
   "cell_type": "code",
   "execution_count": 97,
   "id": "f78d7a44",
   "metadata": {},
   "outputs": [
    {
     "name": "stdout",
     "output_type": "stream",
     "text": [
      "Acurácia: 0.6310066267422292\n",
      "Acurácia de previsão: 0.630047076415763\n",
      "              precision    recall  f1-score   support\n",
      "\n",
      "           1       0.62      0.68      0.65    204876\n",
      "           2       0.64      0.58      0.61    205733\n",
      "\n",
      "    accuracy                           0.63    410609\n",
      "   macro avg       0.63      0.63      0.63    410609\n",
      "weighted avg       0.63      0.63      0.63    410609\n",
      "\n"
     ]
    }
   ],
   "source": [
    "# KNN\n",
    "kncl = KNeighborsClassifier(metric= 'minkowski',n_neighbors= 15, weights='distance')\n",
    "kncl.fit(X_train, y_train)\n",
    "print('Acurácia:', kncl.score(X_train,y_train))\n",
    "knn_predict = kncl.predict(X_test)\n",
    "print('Acurácia de previsão:', accuracy_score(y_test,knn_predict))\n",
    "print(classification_report(y_test, knn_predict))"
   ]
  }
 ],
 "metadata": {
  "kernelspec": {
   "display_name": "Python 3 (ipykernel)",
   "language": "python",
   "name": "python3"
  },
  "language_info": {
   "codemirror_mode": {
    "name": "ipython",
    "version": 3
   },
   "file_extension": ".py",
   "mimetype": "text/x-python",
   "name": "python",
   "nbconvert_exporter": "python",
   "pygments_lexer": "ipython3",
   "version": "3.9.13"
  }
 },
 "nbformat": 4,
 "nbformat_minor": 5
}
